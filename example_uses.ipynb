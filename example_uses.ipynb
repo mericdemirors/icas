{
 "cells": [
  {
   "cell_type": "markdown",
   "metadata": {},
   "source": [
    "# Test codes"
   ]
  },
  {
   "cell_type": "code",
   "execution_count": null,
   "metadata": {},
   "outputs": [],
   "source": [
    "import labelimg.clusterimg.clusterimg_test as ct\n",
    "ct()"
   ]
  },
  {
   "cell_type": "code",
   "execution_count": null,
   "metadata": {},
   "outputs": [],
   "source": [
    "import labelimg.segmentatimg.segmentatimg_test as st\n",
    "st()"
   ]
  },
  {
   "cell_type": "markdown",
   "metadata": {},
   "source": [
    "# Clusterimg codes"
   ]
  },
  {
   "cell_type": "markdown",
   "metadata": {},
   "source": [
    "## Raw Clusterimg"
   ]
  },
  {
   "cell_type": "code",
   "execution_count": null,
   "metadata": {},
   "outputs": [],
   "source": [
    "from labelimg.clusterimg.Clusteror import  Clusteror\n",
    "cl = Clusteror(\"/home/mericdemirors/Pictures/titles\", \"TM\", 60, threshold=0.5, overwrite=True)\n",
    "cl()"
   ]
  },
  {
   "cell_type": "markdown",
   "metadata": {},
   "source": [
    "## DL Clusterimg"
   ]
  },
  {
   "cell_type": "code",
   "execution_count": 7,
   "metadata": {},
   "outputs": [],
   "source": [
    "from labelimg.clusterimg.DL_ModelTrainer import ModelTrainer\n",
    "from labelimg.clusterimg.DL_Datasets import ImageDataset\n",
    "from labelimg.clusterimg.DL_Models import PowerOf2s32to128\n",
    "from labelimg.clusterimg.DL_Clusteror import DL_Clusteror"
   ]
  },
  {
   "cell_type": "code",
   "execution_count": 8,
   "metadata": {},
   "outputs": [],
   "source": [
    "device = \"cpu\"\n",
    "method = \"kmeans\"\n",
    "loss = \"mse\"\n",
    "test_path = \"test_images\""
   ]
  },
  {
   "cell_type": "code",
   "execution_count": null,
   "metadata": {},
   "outputs": [],
   "source": [
    "mt = ModelTrainer(num_of_epochs=1, lr=0.001, batch_size=2, loss_type=loss,\n",
    "                  dataset=ImageDataset(test_path), model=PowerOf2s32to128(),\n",
    "                  verbose=0, device=device)\n",
    "\n",
    "dlc = DL_Clusteror(model_trainer=mt, method=method, batch_size=100, overwrite=True, verbose=0)\n",
    "dlc()"
   ]
  },
  {
   "cell_type": "markdown",
   "metadata": {},
   "source": [
    "# Segmentatimg codes"
   ]
  },
  {
   "cell_type": "code",
   "execution_count": 12,
   "metadata": {},
   "outputs": [
    {
     "name": "stdout",
     "output_type": "stream",
     "text": [
      "[16:15:01] - [quit]  | ending_session, waiting for threads...\n"
     ]
    }
   ],
   "source": [
    "from labelimg.segmentatimg.Segmentator import  Segmentator\n",
    "sg = Segmentator(\"/home/mericdemirors/Pictures/titles\", method=\"grabcut\")\n",
    "sg()"
   ]
  }
 ],
 "metadata": {
  "kernelspec": {
   "display_name": "490-venv",
   "language": "python",
   "name": "python3"
  },
  "language_info": {
   "codemirror_mode": {
    "name": "ipython",
    "version": 3
   },
   "file_extension": ".py",
   "mimetype": "text/x-python",
   "name": "python",
   "nbconvert_exporter": "python",
   "pygments_lexer": "ipython3",
   "version": "3.10.12"
  }
 },
 "nbformat": 4,
 "nbformat_minor": 2
}
